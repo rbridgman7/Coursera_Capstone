{
 "cells": [
  {
   "cell_type": "markdown",
   "metadata": {},
   "source": [
    "# Capstone Project Final Report"
   ]
  },
  {
   "cell_type": "markdown",
   "metadata": {},
   "source": [
    "#### Introduction/Business Problem"
   ]
  },
  {
   "cell_type": "markdown",
   "metadata": {},
   "source": [
    "The internet has made many things around the world more accessible, leading many people around the world to want to experience different cultures.  Korean culture especially has had an increasing level of interest in recent years, largely due to the explosion of Kpop in western media, and as a result of this the interest in Korean BBQ restaurants has also grown.  When looking for a place to open a new restaurant, London seems like an obvious choice but, as the capital of the UK, it is a very large and diverse city and figuring out the best area for the restaurant may be a long and difficult process.  This will be made easier through the use of the Foursquare location data to get information on the types of establishments in each borough of London."
   ]
  },
  {
   "cell_type": "markdown",
   "metadata": {},
   "source": [
    "#### Data"
   ]
  },
  {
   "cell_type": "markdown",
   "metadata": {},
   "source": [
    "The information on each borough of London will be taken from the Wikipedia page 'List of London boroughs'.  This page has information of interest including the borough names and their coordinates, which will be needed in order to use the Foursquare location data.  The location data will use the coordinates of each borough to gather information about the types of establishments in and around the local area, and the top ten types of businesses for each borough will be calculated in order to find the best area in London for a Korean BBQ restaurant."
   ]
  }
 ],
 "metadata": {
  "kernelspec": {
   "display_name": "Python 3",
   "language": "python",
   "name": "python3"
  },
  "language_info": {
   "codemirror_mode": {
    "name": "ipython",
    "version": 3
   },
   "file_extension": ".py",
   "mimetype": "text/x-python",
   "name": "python",
   "nbconvert_exporter": "python",
   "pygments_lexer": "ipython3",
   "version": "3.8.5"
  }
 },
 "nbformat": 4,
 "nbformat_minor": 4
}
