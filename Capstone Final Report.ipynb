{
 "cells": [
  {
   "cell_type": "markdown",
   "metadata": {},
   "source": [
    "# Capstone Project Final Report"
   ]
  },
  {
   "cell_type": "markdown",
   "metadata": {},
   "source": [
    "#### Introduction/Business Problem"
   ]
  },
  {
   "cell_type": "markdown",
   "metadata": {},
   "source": [
    "The internet has made many things around the world more accessible, leading many people around the world to want to experience different cultures.  Korean culture especially has had an increasing level of interest in recent years, largely due to the explosion of Kpop in western media, and as a result of this the interest in Korean BBQ restaurants has also grown.  When looking for a place to open a new restaurant, London seems like an obvious choice but, as the capital of the UK, it is a very large and diverse city and figuring out the best area for the restaurant may be a long and difficult process.  This will be made easier through the use of the Foursquare location data to get information on the types of establishments in each borough of London."
   ]
  },
  {
   "cell_type": "markdown",
   "metadata": {},
   "source": [
    "#### Data"
   ]
  },
  {
   "cell_type": "markdown",
   "metadata": {},
   "source": [
    "The information on each borough of London will be taken from the Wikipedia page 'List of London boroughs'.  This page has information of interest including the borough names and their coordinates, which will be needed in order to use the Foursquare location data.  The location data will use the coordinates of each borough to gather information about the types of establishments in and around the local area, and the boroughs with the highest number of Korean and East Asian restaurants will be calculated."
   ]
  },
  {
   "cell_type": "markdown",
   "metadata": {},
   "source": [
    "#### Methodology"
   ]
  },
  {
   "cell_type": "markdown",
   "metadata": {},
   "source": [
    "To begin investigating the best London borough to open a Korean BBQ restaurant, the table listing the London boroughs was first scraped from the Wikipedia page 'List of London Boroughs'.  The table included lots of other information, however the only information of note for this project was the co-ordinates of each borough.  Due to this, only the 'Borough' and 'Co-ordinates' columns were kept from the original table.  The first row was then dropped from the table as the co-ordinate values had not copied across properly, and the names of the boroughs were cleaned to get rid of the notes from Wikipedia.  The 'Co-ordinates' column was then split so only the needed co-ordinate values were present in the table, and the resulting column was then split into two so the latitude and longitude values has separate columns.  The additional string components were removed (°N, °W, °E) and the necessary numbers converted to the correct form for Foursquare to recognise the values as latitude and longitude.  The hidden byte mark attached to the latitude and longitude from the web scraping process was also removed, so that the values could be converted from string type to float type.\n",
    "\n",
    "In order to create a map to visualise the boroughs' positions in London, Geolocator was initially used to discern the geographical co-ordinates of London.  These co-ordinates were then used to generate a map of London using Folium and the co-ordinates of each borough used to add markers representing the boroughs to the map.\n",
    "\n",
    "The Foursquare data was then used to get information on the types of venues within each borough, and a new Dataframe containing that information was created.  The number of unique types of venue within each borough was also calculated.  From the new Dataframe, one hot encoding was used for each venue type in each of the boroughs and as a result, the mean of the frequency of each category was calculated so the venue types for each borough was shown as a proportion.  This Dataframe was then filtered so that it contained only columns involving 'East Asian' cuisine.  The 'East Asian' cuisine type was chosen because the countries within that area (ie China, Hong Kong, Japan, Macau, Mongolia, North Korea, South Korea and Taiwan) would be expected to have a similar cuisine to the expected South Korean cuisine, so the venue types were chosen according to this.  The frequencies in each borough were then summed up and sorted by highest to lowest frequency value to get the boroughs withthe highest proportion of East Asian restaurants.  Finally, the Dataframe was sorted by the 'Korean Restaurant' column in order to determine the boroughs with the highest proportion of Korean restaurants."
   ]
  },
  {
   "cell_type": "markdown",
   "metadata": {},
   "source": [
    "#### Results and Discussion"
   ]
  },
  {
   "cell_type": "markdown",
   "metadata": {},
   "source": [
    "The investigation into the boroughs showed that only two boroughs have Korean restaurants in the areas examined by Foursquare, those being Croydon and Westminster.  If boroughs containg East Asian style restaurants are included in the search, the number of boroughs rises to 24, with Lambeth and Kingston upon Thames having the highest proportion.  Therefore if someone was looking to open a Korean BBQ restaurant in an area where there are other Korean restaurants then Croydon or Westminster are the obvious options, whereas if they were looking for an area with East Asian style restaurants then the clear options are Lambeth or Kingston upon Thames.  However, Croydon has the third highest proportion of East Asian style restaurants and the highest proportion of Korean restaurants so would be the recommended borough to open a Korean BBQ restaurant as overall it has the best proportions of similar style venues."
   ]
  },
  {
   "cell_type": "markdown",
   "metadata": {},
   "source": [
    "#### Conclusion"
   ]
  },
  {
   "cell_type": "markdown",
   "metadata": {},
   "source": [
    "An analysis of the different venue types in the various boroughs of London has been performed in order to determine the best borough in which to open a Korean BBQ restaurant.  The boroughs containing the highest proportion of Korean restaurants were found, as were those with the highest proportion of similar-style East Asian restaurants.  The borough that gave the best mix of these two categories was Croydon, which is an ethnically diverse area of London and would be more than suitable for a Korean BBQ restaurant."
   ]
  }
 ],
 "metadata": {
  "kernelspec": {
   "display_name": "Python 3",
   "language": "python",
   "name": "python3"
  },
  "language_info": {
   "codemirror_mode": {
    "name": "ipython",
    "version": 3
   },
   "file_extension": ".py",
   "mimetype": "text/x-python",
   "name": "python",
   "nbconvert_exporter": "python",
   "pygments_lexer": "ipython3",
   "version": "3.8.5"
  }
 },
 "nbformat": 4,
 "nbformat_minor": 4
}
